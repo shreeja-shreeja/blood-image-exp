{
 "cells": [
  {
   "cell_type": "markdown",
   "id": "83d6e87c",
   "metadata": {},
   "source": [
    "### Blood segmenting per available information"
   ]
  },
  {
   "cell_type": "code",
   "execution_count": 1,
   "id": "d03995fb",
   "metadata": {},
   "outputs": [],
   "source": [
    "import numpy as np\n",
    "import cv2\n",
    "import pandas as pd\n",
    "import requests\n",
    "\n",
    "from matplotlib import pyplot as plt"
   ]
  },
  {
   "cell_type": "code",
   "execution_count": 2,
   "id": "217dd602",
   "metadata": {},
   "outputs": [],
   "source": [
    "#Function to download file from internet url\n",
    "def get_image(url):\n",
    "    local_filename = 'blood.jpg'\n",
    "    \n",
    "    # NOTE the stream=True parameter below\n",
    "    with requests.get(url, stream=True) as r:\n",
    "        r.raise_for_status()\n",
    "        with open(local_filename, 'wb') as f:\n",
    "            for chunk in r.iter_content(chunk_size=8192): \n",
    "                # If you have chunk encoded response uncomment if\n",
    "                # and set chunk_size parameter to None.\n",
    "                #if chunk: \n",
    "                f.write(chunk)\n",
    "    \n",
    "    img = cv2.imread(local_filename)\n",
    "    \n",
    "    return img"
   ]
  },
  {
   "cell_type": "code",
   "execution_count": 3,
   "id": "00a1a691",
   "metadata": {},
   "outputs": [],
   "source": [
    "def smear(xmin,ymin,xmax,ymax,img,type,color):\n",
    "    if (xmin<2):\n",
    "        xmin = 2\n",
    "    if (ymin<2):\n",
    "        ymin = 2\n",
    "\n",
    "    tmp = np.ones([(ymax-ymin), 2, 3]) * 0\n",
    "    img[ymin:ymax, (xmin-2):xmin, 0:3] = tmp\n",
    "    tmp = np.ones([2,(xmax-xmin),3]) * 0\n",
    "    img[(ymin-2):ymin, xmin:xmax, 0:3] = tmp\n",
    "    tmp = np.ones([(ymax-ymin),2,3]) * 0\n",
    "    img[ymin:ymax, (xmax-2):xmax, 0:3] = tmp\n",
    "    tmp = np.ones([2,(xmax-xmin),3]) * 0\n",
    "    img[(ymax-2):ymax, xmin:xmax, 0:3] = tmp\n",
    "\n",
    "    cv2.putText(img, type, (xmin + 10, ymin + 15),\n",
    "\t\t\t\t\t\t\tcv2.FONT_HERSHEY_SIMPLEX, 1e-3 * img.shape[0], color, 2)\n",
    "    return "
   ]
  },
  {
   "cell_type": "code",
   "execution_count": 4,
   "id": "2c8819f9",
   "metadata": {},
   "outputs": [],
   "source": [
    "# Crop the image given the coordinates of the cell\n",
    "def blood_seg_new(xmin, ymin, xmax, ymax, img):\n",
    "    y, x, c = img.shape\n",
    "    img[0:ymin, :, :] = np.zeros([ymin, x, 3])\n",
    "    img[ymax:, :, :] = np.zeros([y-ymax, x, 3])\n",
    "    img[:, 0:xmin, :] = np.zeros([y, xmin, 3])\n",
    "    img[:, xmax:, :] = np.zeros([y, x-xmax, 3])\n",
    "    \n",
    "    return "
   ]
  },
  {
   "cell_type": "code",
   "execution_count": 5,
   "id": "16c965d7",
   "metadata": {},
   "outputs": [],
   "source": [
    "#specify the csv path containing identifiers\n",
    "csv_path = 'https://raw.githubusercontent.com/Shenggan/BCCD_Dataset/master/test.csv'\n",
    "#specify root folder for blood images\n",
    "root = 'https://raw.githubusercontent.com/Shenggan/BCCD_Dataset/master/BCCD/JPEGImages/'\n",
    "#specify name of the input file"
   ]
  },
  {
   "cell_type": "code",
   "execution_count": 6,
   "id": "8eaf6925",
   "metadata": {},
   "outputs": [],
   "source": [
    "# Read annotations\n",
    "df = pd.read_csv(csv_path)"
   ]
  },
  {
   "cell_type": "code",
   "execution_count": 13,
   "id": "26626878",
   "metadata": {},
   "outputs": [],
   "source": [
    "# Read the image\n",
    "blood = \"BloodImage_00256.jpg\"\n",
    "\n",
    "rslt_df = df.loc[df['filename'] == blood]\n",
    "img = get_image(root+blood)"
   ]
  },
  {
   "cell_type": "code",
   "execution_count": 14,
   "id": "9dfec616",
   "metadata": {},
   "outputs": [],
   "source": [
    "celltypes = [\"RBC\", \"WBC\", \"Platelets\"]\n",
    "colors = [(0,0,255),(255,0,0),(0,0,0)]\n",
    "\n",
    "ann_img = img.copy()\n",
    "\n",
    "for i,name in enumerate(celltypes):\n",
    "    rslt_df1 = rslt_df.loc[rslt_df['cell_type'] == name]\n",
    "\n",
    "    for ind in rslt_df1.index:\n",
    "        xmin = int(rslt_df1[\"xmin\"][ind])\n",
    "        xmax = int(rslt_df1[\"xmax\"][ind])\n",
    "        ymin = int(rslt_df1[\"ymin\"][ind])\n",
    "        ymax = int(rslt_df1[\"ymax\"][ind])\n",
    "        smear(xmin,ymin,xmax,ymax,ann_img,type=name,color=colors[i])\n",
    "\n",
    "plt.imshow(ann_img)\n",
    "plt.title('Blood cells marked using annotations')"
   ]
  },
  {
   "cell_type": "code",
   "execution_count": 15,
   "id": "bbaa5840",
   "metadata": {},
   "outputs": [],
   "source": [
    "# Crop the image around a single WBC\n",
    "type = 'WBC'\n",
    "rslt_df1 = rslt_df.loc[rslt_df['cell_type'] == type]\n",
    "\n",
    "crp_img = img.copy()\n",
    "\n",
    "ind = rslt_df1.index[0]\n",
    "xmin = int(rslt_df1[\"xmin\"][ind])\n",
    "xmax = int(rslt_df1[\"xmax\"][ind])\n",
    "ymin = int(rslt_df1[\"ymin\"][ind])\n",
    "ymax = int(rslt_df1[\"ymax\"][ind])\n",
    "\n",
    "blood_seg_new(xmin, ymin, xmax, ymax, crp_img)\n",
    "\n",
    "hsv_img = cv2.cvtColor(crp_img, cv2.COLOR_BGR2HSV)\n",
    "\n",
    "fig, axes = plt.subplots(1, 3)\n",
    "axes[0].imshow(img)\n",
    "axes[0].set_title('Original Image')\n",
    "axes[1].imshow(crp_img)\n",
    "axes[1].set_title('Cropped around ' + type)\n",
    "axes[2].imshow(hsv_img)\n",
    "axes[2].set_title('HSV image ')"
   ]
  },
  {
   "cell_type": "code",
   "execution_count": 16,
   "id": "e3f421bd",
   "metadata": {},
   "outputs": [],
   "source": [
    "# Identify blood cell using HSV thresholding\n",
    "def hsv_filter(img, lower, upper, lower2=None, upper2=None):\n",
    "    # Create HSV Image and threshold into a range.\n",
    "    hsv = cv2.cvtColor(img, cv2.COLOR_BGR2HSV)\n",
    "    mask = cv2.inRange(hsv, lower, upper)\n",
    "    \n",
    "    if lower2 is not None:\n",
    "        mask2 = cv2.inRange(hsv, lower2, upper2)\n",
    "        mask = mask + mask2\n",
    "        \n",
    "    output = cv2.bitwise_and(img,img, mask= mask)\n",
    "    \n",
    "    return output"
   ]
  },
  {
   "cell_type": "code",
   "execution_count": 17,
   "id": "6a9c07c6",
   "metadata": {},
   "outputs": [],
   "source": [
    "# Set thresholds type = [lower_th, upper_th]\n",
    "wbc_th = [np.array([120, 120, 200]), np.array([135, 160, 225])]\n",
    "plt_th = [np.array([110, 55, 180]), np.array([135, 110, 210])]\n",
    "rbc_th = [np.array([0, 20, 170]), np.array([10, 50, 200]), np.array([150, 20, 170]), np.array([179, 50, 200])]\n",
    "                                           \n",
    "ths = [wbc_th, rbc_th, plt_th]\n",
    "types = ['WBC', 'RBC', 'Platelet']"
   ]
  },
  {
   "cell_type": "code",
   "execution_count": 18,
   "id": "25855482",
   "metadata": {
    "scrolled": true
   },
   "outputs": [],
   "source": [
    "fig, axes = plt.subplots(2, 2)\n",
    "axes[0, 0].imshow(img)\n",
    "axes[0, 0].set_title('Original')\n",
    "axes[0, 0].set_xticks([])\n",
    "axes[0, 0].set_yticks([])\n",
    "\n",
    "tmp = [axes[0, 1], axes[1, 0], axes[1, 1]]\n",
    "imgs = []\n",
    "\n",
    "for i, celltype in enumerate(types):\n",
    "    tmp_img = img.copy()\n",
    "    \n",
    "    if celltype == 'RBC':\n",
    "        flt_img = hsv_filter(tmp_img, ths[i][0], ths[i][1], ths[i][2], ths[i][3])\n",
    "    else:\n",
    "        flt_img = hsv_filter(tmp_img, ths[i][0], ths[i][1])\n",
    "    \n",
    "    tmp[i - 1].imshow(flt_img)\n",
    "    tmp[i - 1].set_title(celltype + ' filtered')\n",
    "    tmp[i - 1].set_xticks([])\n",
    "    tmp[i - 1].set_yticks([])\n",
    "    \n",
    "    imgs.append(flt_img)"
   ]
  },
  {
   "cell_type": "code",
   "execution_count": 19,
   "id": "103c6f97",
   "metadata": {
    "scrolled": false
   },
   "outputs": [],
   "source": [
    "# Otsu's binary thresholding\n",
    "# Adapted from https://learnopencv.com/otsu-thresholding-with-opencv/\n",
    "blur = cv2.GaussianBlur(imgs[0], (5, 5), 0)\n",
    "h, s, v = cv2.split(blur)\n",
    "#h, s, v = cv2.split(imgs[0])\n",
    "\n",
    "# Applying Otsu's method setting the flag value into cv.THRESH_OTSU.\n",
    "# Use a bimodal image as an input.\n",
    "# Optimal threshold value is cdetermined automatically.\n",
    "otsu_th, image_result = cv2.threshold(\n",
    "    v, 0, 255, cv2.THRESH_BINARY + cv2.THRESH_OTSU,\n",
    ")\n",
    "\n",
    "#blur = cv2.GaussianBlur(image_result, (5, 5), 0)\n",
    "\n",
    "plt.imshow(image_result)\n",
    "\n"
   ]
  },
  {
   "cell_type": "code",
   "execution_count": 20,
   "id": "8d87f596",
   "metadata": {},
   "outputs": [],
   "source": [
    "params = cv2.SimpleBlobDetector_Params() \n",
    "# Change thresholds\n",
    "params.minThreshold = 10\n",
    "#params.maxThreshold = 200\n",
    "\n",
    "# Filter by Area.\n",
    "params.filterByArea = True\n",
    "#params.minArea = 350\n",
    "#params.maxArea = 500\n",
    "params.minArea = 8000\n",
    "params.maxArea = 60000\n",
    "\n",
    "\n",
    "# Filter by Circularity\n",
    "params.filterByCircularity = False\n",
    "params.minCircularity = 0.1\n",
    "\n",
    "# Filter by Convexity\n",
    "params.filterByConvexity = False\n",
    "params.minConvexity = 0.87\n",
    "\n",
    "# Filter by Inertia\n",
    "params.filterByInertia = False\n",
    "params.minInertiaRatio = 0.01\n",
    "\n",
    "\n",
    "detector = cv2.SimpleBlobDetector_create(params)\n",
    "\n",
    "keypoints = detector.detect(cv2.bitwise_not(image_result))\n",
    "im_with_keypoints = cv2.drawKeypoints(image_result, keypoints, np.array([]), (0,0,255), cv2.DRAW_MATCHES_FLAGS_DRAW_RICH_KEYPOINTS)\n",
    "\n",
    "plt.imshow(im_with_keypoints)"
   ]
  },
  {
   "cell_type": "code",
   "execution_count": null,
   "id": "e8987e86",
   "metadata": {},
   "outputs": [],
   "source": []
  }
 ],
 "metadata": {
  "kernelspec": {
   "display_name": "Python 3 (ipykernel)",
   "language": "python",
   "name": "python3"
  },
  "language_info": {
   "codemirror_mode": {
    "name": "ipython",
    "version": 3
   },
   "file_extension": ".py",
   "mimetype": "text/x-python",
   "name": "python",
   "nbconvert_exporter": "python",
   "pygments_lexer": "ipython3",
   "version": "3.10.10"
  }
 },
 "nbformat": 4,
 "nbformat_minor": 5
}
